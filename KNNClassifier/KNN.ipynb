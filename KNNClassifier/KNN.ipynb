{
 "cells": [
  {
   "cell_type": "code",
   "execution_count": 37,
   "id": "42fdfa82",
   "metadata": {
    "tags": []
   },
   "outputs": [],
   "source": [
    "import math\n",
    "\n",
    "\n",
    "def euclidean(v1, v2):\n",
    "            assert len(v1) == len(v2)\n",
    "            \n",
    "            v1, v2 = np.array(v1), np.array(v2)    \n",
    "            return sum((v2 - v1)**2)\n",
    "\n",
    "        \n",
    "class KNNClassifier:\n",
    "    \n",
    "    \n",
    "    def __init__(self, k=0):\n",
    "        \n",
    "        self.k = k\n",
    "        \n",
    "    \n",
    "    def fit(self, X, y):\n",
    "        \n",
    "        self.X = X.copy()\n",
    "        self.y = y.copy()\n",
    "        \n",
    "        if self.k == 0:\n",
    "            self.k = int(math.sqrt(len(X)))\n",
    "        \n",
    "        self.dim = len(X.columns)\n",
    "        X.reset_index(inplace=True, drop=True)\n",
    "        X['index'] = X.index\n",
    "\n",
    "        self.X_np = X.to_numpy()\n",
    "        self.y_np = y.to_numpy()\n",
    "                \n",
    "        return self\n",
    "\n",
    "    \n",
    "    def predict(self, X):\n",
    "        \n",
    "        X_pred = X.copy()\n",
    "        X_pred = X_pred.to_numpy()\n",
    "    \n",
    "      \n",
    "        distances = [sorted([(euclidean(x1[:self.dim], x2[:self.dim]), x2[self.dim]) for x2 in self.X_np])[:self.k] for x1 in X_pred]\n",
    "        \n",
    "        class_dict = {}\n",
    "        for name in np.unique(self.y):\n",
    "            class_dict[name] = 0\n",
    "        \n",
    "        \n",
    "        labels = []\n",
    "        for vector_group in distances:\n",
    "            temp_dict = class_dict.copy()\n",
    "            for vect in vector_group:\n",
    "                temp_dict[self.y_np[int(vect[1])]] += 1\n",
    "                \n",
    "            \n",
    "            labels.append(max(temp_dict, key=temp_dict.get))\n",
    "            \n",
    "        \n",
    "\n",
    "        return np.array(labels)\n",
    "                \n",
    "            \n",
    "        \n",
    "        \n",
    "    "
   ]
  },
  {
   "cell_type": "code",
   "execution_count": 38,
   "id": "ed632714",
   "metadata": {
    "tags": []
   },
   "outputs": [],
   "source": [
    "import pandas as pd\n",
    "import numpy as np\n",
    "from sklearn.neighbors import KNeighborsClassifier\n",
    "import matplotlib.pylab as plt \n",
    "\n",
    "df = pd.read_csv('Iris.csv')\n",
    "df.drop('Id', axis=1, inplace=True)\n",
    "\n",
    "\n",
    "df_setosa = df[df['Species'] == 'Iris-setosa']\n",
    "df_versicolor = df[df['Species'] == 'Iris-versicolor']\n",
    "df_virginica = df[df['Species'] == 'Iris-virginica']\n",
    "\n",
    "\n",
    "train = df_setosa.iloc[:40].append(df_versicolor.iloc[:40]).append(df_virginica.iloc[:40])\n",
    "test = df_setosa.iloc[40:].append(df_versicolor.iloc[40:]).append(df_virginica.iloc[40:])\n",
    "\n",
    "X_train = train.drop('Species', axis=1)\n",
    "y_train = train['Species']\n",
    "\n",
    "X_test = test.drop('Species', axis=1)\n",
    "y_test = test['Species']\n",
    "\n",
    "model = KNNClassifier().fit(X_train, y_train)\n",
    "pred = model.predict(X_train)"
   ]
  },
  {
   "cell_type": "code",
   "execution_count": 39,
   "id": "b8d9cbef-207a-41c1-9511-364d8d801e1f",
   "metadata": {
    "tags": []
   },
   "outputs": [
    {
     "data": {
      "text/plain": [
       "115"
      ]
     },
     "execution_count": 39,
     "metadata": {},
     "output_type": "execute_result"
    }
   ],
   "source": [
    "sum(pred == y_train)"
   ]
  },
  {
   "cell_type": "code",
   "execution_count": null,
   "id": "2312d25c-6a32-4a15-ac1d-9edadb88fb34",
   "metadata": {},
   "outputs": [],
   "source": []
  }
 ],
 "metadata": {
  "kernelspec": {
   "display_name": "Python 3 (ipykernel)",
   "language": "python",
   "name": "python3"
  },
  "language_info": {
   "codemirror_mode": {
    "name": "ipython",
    "version": 3
   },
   "file_extension": ".py",
   "mimetype": "text/x-python",
   "name": "python",
   "nbconvert_exporter": "python",
   "pygments_lexer": "ipython3",
   "version": "3.9.10"
  }
 },
 "nbformat": 4,
 "nbformat_minor": 5
}

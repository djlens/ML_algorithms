{
 "cells": [
  {
   "cell_type": "code",
   "execution_count": 1,
   "id": "c3bbeae9",
   "metadata": {},
   "outputs": [],
   "source": [
    "import pandas as pd\n"
   ]
  },
  {
   "cell_type": "code",
   "execution_count": 2,
   "id": "f14a0765",
   "metadata": {},
   "outputs": [],
   "source": [
    "iris = pd.read_csv('data/Iris.csv')\n",
    "iris.drop('Id', axis=1, inplace=True)\n",
    "\n",
    "X = iris.drop('Species', axis=1)\n",
    "y = iris['Species']\n",
    "\n",
    "X.to_csv('iris_X.csv', index=False)\n",
    "y.to_csv('iris_y.csv', index=False)"
   ]
  }
 ],
 "metadata": {
  "kernelspec": {
   "display_name": "Python 3 (ipykernel)",
   "language": "python",
   "name": "python3"
  },
  "language_info": {
   "codemirror_mode": {
    "name": "ipython",
    "version": 3
   },
   "file_extension": ".py",
   "mimetype": "text/x-python",
   "name": "python",
   "nbconvert_exporter": "python",
   "pygments_lexer": "ipython3",
   "version": "3.9.10"
  }
 },
 "nbformat": 4,
 "nbformat_minor": 5
}
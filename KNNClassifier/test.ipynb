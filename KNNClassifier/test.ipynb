{
 "cells": [
  {
   "cell_type": "code",
   "execution_count": 4,
   "id": "6397eb61-ff21-4f49-a175-d87e214aeeb5",
   "metadata": {},
   "outputs": [],
   "source": [
    "import pandas as pd\n",
    "import numpy as np\n",
    "from KNN import KNNClassifier\n",
    "from sklearn.model_selection import train_test_split"
   ]
  },
  {
   "cell_type": "code",
   "execution_count": 5,
   "id": "163ca7d7-8eec-419e-8621-dc7b0429a29a",
   "metadata": {},
   "outputs": [
    {
     "data": {
      "text/plain": [
       "1.0"
      ]
     },
     "execution_count": 5,
     "metadata": {},
     "output_type": "execute_result"
    }
   ],
   "source": [
    "iris = pd.read_csv('Iris.csv')\n",
    "iris.drop('Id', axis=1, inplace=True)\n",
    "\n",
    "\n",
    "iris_setosa = iris[iris['Species'] == 'Iris-setosa']\n",
    "iris_versicolor = iris[iris['Species'] == 'Iris-versicolor']\n",
    "iris_virginica = iris[iris['Species'] == 'Iris-virginica']\n",
    "\n",
    "iris_train = iris_setosa.iloc[:40].append(iris_versicolor.iloc[:40]).append(iris_virginica.iloc[:40])\n",
    "iris_test = iris_setosa.iloc[40:].append(iris_versicolor.iloc[40:]).append(iris_virginica.iloc[40:])\n",
    "\n",
    "X_iris_train = iris_train.drop('Species', axis=1)\n",
    "y_iris_train = iris_train['Species']\n",
    "\n",
    "X_iris_test = iris_test.drop('Species', axis=1)\n",
    "y_iris_test = iris_test['Species']\n",
    "\n",
    "model = KNNClassifier().fit(X_iris_train, y_iris_train)\n",
    "pred = model.predict(X_iris_test)\n",
    "\n",
    "sum(pred == y_iris_test) / len(y_iris_test)"
   ]
  },
  {
   "cell_type": "code",
   "execution_count": 56,
   "id": "9b59e6ef-1f12-4b38-ae67-037f203ecdae",
   "metadata": {},
   "outputs": [
    {
     "data": {
      "text/plain": [
       "0.9521276595744681"
      ]
     },
     "execution_count": 56,
     "metadata": {},
     "output_type": "execute_result"
    }
   ],
   "source": [
    "cancer = pd.read_csv('cancer.csv')\n",
    "cancer.drop('id', axis=1, inplace=True)\n",
    "\n",
    "cancer.drop('Unnamed: 32', axis=1, inplace=True)\n",
    "X_cancer = cancer.drop('diagnosis', axis=1)\n",
    "y_cancer = cancer['diagnosis']\n",
    "\n",
    "X_cancer_train, X_cancer_test, y_cancer_train, y_cancer_test = train_test_split(X_cancer, y_cancer, test_size = 0.33)\n",
    "\n",
    "model_cancer = KNNClassifier().fit(X_cancer_train, y_cancer_train)\n",
    "pred_cancer = model_cancer.predict(X_cancer_test)\n",
    "\n",
    "\n",
    "sum(pred_cancer == y_cancer_test) / len(y_cancer_test)\n"
   ]
  }
 ],
 "metadata": {
  "kernelspec": {
   "display_name": "Python 3 (ipykernel)",
   "language": "python",
   "name": "python3"
  },
  "language_info": {
   "codemirror_mode": {
    "name": "ipython",
    "version": 3
   },
   "file_extension": ".py",
   "mimetype": "text/x-python",
   "name": "python",
   "nbconvert_exporter": "python",
   "pygments_lexer": "ipython3",
   "version": "3.9.10"
  }
 },
 "nbformat": 4,
 "nbformat_minor": 5
}

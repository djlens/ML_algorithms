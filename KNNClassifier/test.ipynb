{
 "cells": [
  {
   "cell_type": "code",
   "execution_count": 4,
   "id": "6397eb61-ff21-4f49-a175-d87e214aeeb5",
   "metadata": {},
   "outputs": [],
   "source": [
    "import pandas as pd\n",
    "import numpy as np\n",
    "from sklearn.neighbors import KNeighborsClassifier\n",
    "import matplotlib.pylab as plt \n",
    "from KNN import KNNClassifier\n",
    "\n",
    "df = pd.read_csv('Iris.csv')\n",
    "df.drop('Id', axis=1, inplace=True)\n",
    "\n",
    "\n",
    "df_setosa = df[df['Species'] == 'Iris-setosa']\n",
    "df_versicolor = df[df['Species'] == 'Iris-versicolor']\n",
    "df_virginica = df[df['Species'] == 'Iris-virginica']\n",
    "\n",
    "\n",
    "train = df_setosa.iloc[:40].append(df_versicolor.iloc[:40]).append(df_virginica.iloc[:40])\n",
    "test = df_setosa.iloc[40:].append(df_versicolor.iloc[40:]).append(df_virginica.iloc[40:])\n",
    "\n",
    "X_train = train.drop('Species', axis=1)\n",
    "y_train = train['Species']\n",
    "\n",
    "X_test = test.drop('Species', axis=1)\n",
    "y_test = test['Species']\n",
    "\n",
    "model = KNNClassifier().fit(X_train, y_train)\n",
    "pred = model.predict(X_test)"
   ]
  },
  {
   "cell_type": "code",
   "execution_count": 5,
   "id": "c182a7ed-881a-41eb-b726-d8d26e2fb500",
   "metadata": {},
   "outputs": [
    {
     "data": {
      "text/plain": [
       "40     True\n",
       "41     True\n",
       "42     True\n",
       "43     True\n",
       "44     True\n",
       "45     True\n",
       "46     True\n",
       "47     True\n",
       "48     True\n",
       "49     True\n",
       "90     True\n",
       "91     True\n",
       "92     True\n",
       "93     True\n",
       "94     True\n",
       "95     True\n",
       "96     True\n",
       "97     True\n",
       "98     True\n",
       "99     True\n",
       "140    True\n",
       "141    True\n",
       "142    True\n",
       "143    True\n",
       "144    True\n",
       "145    True\n",
       "146    True\n",
       "147    True\n",
       "148    True\n",
       "149    True\n",
       "Name: Species, dtype: bool"
      ]
     },
     "execution_count": 5,
     "metadata": {},
     "output_type": "execute_result"
    }
   ],
   "source": [
    "pred == y_test"
   ]
  },
  {
   "cell_type": "code",
   "execution_count": null,
   "id": "163ca7d7-8eec-419e-8621-dc7b0429a29a",
   "metadata": {},
   "outputs": [],
   "source": []
  }
 ],
 "metadata": {
  "kernelspec": {
   "display_name": "Python 3 (ipykernel)",
   "language": "python",
   "name": "python3"
  },
  "language_info": {
   "codemirror_mode": {
    "name": "ipython",
    "version": 3
   },
   "file_extension": ".py",
   "mimetype": "text/x-python",
   "name": "python",
   "nbconvert_exporter": "python",
   "pygments_lexer": "ipython3",
   "version": "3.9.10"
  }
 },
 "nbformat": 4,
 "nbformat_minor": 5
}
